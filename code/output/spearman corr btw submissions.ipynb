{
 "cells": [
  {
   "cell_type": "markdown",
   "metadata": {},
   "source": [
    "## Compute Spearman Correlation between submissions"
   ]
  },
  {
   "cell_type": "code",
   "execution_count": 26,
   "metadata": {},
   "outputs": [
    {
     "name": "stdout",
     "output_type": "stream",
     "text": [
      "Spearman correlation between meta and rsf: 0.8409423655622063\n",
      "      risk_score_cox  risk_score_rsf  risk_score  risk_score_linear\n",
      "ID                                                                 \n",
      "KYW1        1.400462      603.723597    1.071363         803.067531\n",
      "KYW2        0.532592      575.812182    1.058427         741.782381\n",
      "KYW3       -0.194940      369.071512    1.050218         431.621885\n",
      "KYW4        1.009014      679.911632    1.070260         839.679290\n",
      "KYW5        0.237067      576.428874    1.052544         736.489614\n",
      "Spearman correlation between cox and rsf: 0.8710468687330826\n",
      "Spearman correlation between cox and meta: 0.9429655995818805\n",
      "Spearman correlation between rsf and meta: 0.8409423655622063\n"
     ]
    }
   ],
   "source": [
    "import pandas as pd\n",
    "from scipy.stats import spearmanr\n",
    "\n",
    "# Load the two CSV files\n",
    "\n",
    "# PLOT for cox and rsf \n",
    "file1_path = \"./submission_meta(cox_rsf)_xgboost_2025-03-18_01-46_ensemble.csv\"     # XGBOOST 1\n",
    "file2_path = \"./submission_2025-03-14_23-48_rsf.csv\"\n",
    "file3_path = \"./submitted/submission_2025-03-07_20-34_cox.csv\"\n",
    "file4_path = \"./submission_meta(cox_rsf)_xgboost_2025-03-18_11-35_ensemble.csv\"\n",
    "\n",
    "# file3_path = \"./submission_2025-03-12_23-11_deepsurv.csv\"\n",
    "# file4_path = \"./submission_2025-03-13_13-11_meta_learner_linear_ok.csv\"\n",
    "\n",
    "\n",
    "\n",
    "df_meta = pd.read_csv(file1_path, index_col=0)  # Assuming first column is ID\n",
    "df_rsf = pd.read_csv(file2_path, index_col=0)  # Assuming first column is ID\n",
    "\n",
    "# df_deepsurv = pd.read_csv(file3_path, index_col=0)  # Assuming first column is ID\n",
    "\n",
    "df_cox = pd.read_csv(file3_path, index_col=0)  # Assuming first column is ID\n",
    "df_linear = pd.read_csv(file4_path, index_col=0)  # Assuming first column is ID\n",
    "\n",
    "spearman_corr, p_value = spearmanr(df_meta['risk_score'], df_rsf['risk_score'])\n",
    "print(f\"Spearman correlation between meta and rsf: {spearman_corr}\")\n",
    "\n",
    "# Ensure they are aligned by index (ID)\n",
    "df_merged = df_cox.join(df_rsf, lsuffix='_cox', rsuffix='_rsf')\n",
    "# df_merged = df_cox.join(df_rsf, lsuffix='_cox', rsuffix='_rsf')\n",
    "\n",
    "df_merged = df_merged.join(df_meta, rsuffix='_metaaa')\n",
    "df_merged = df_merged.join(df_linear, rsuffix='_linear')\n",
    "print(df_merged.head())\n",
    "\n",
    "# Compute Spearman correlation\n",
    "spearman_corr1, p_value = spearmanr(df_merged['risk_score_cox'], df_merged['risk_score_rsf'])\n",
    "spearman_corr2, p_value = spearmanr(df_merged['risk_score_cox'], df_merged['risk_score'])\n",
    "spearman_corr3, p_value = spearmanr(df_merged['risk_score_rsf'], df_merged['risk_score'])\n",
    "\n",
    "# spearman_corr , p_value = spearmanr(df_merged['risk_score_meta'], df_merged['risk_score_rsf'])\n",
    "# spearman_corr1 \n",
    "\n",
    "print(f\"Spearman correlation between cox and rsf: {spearman_corr1}\")\n",
    "print(f\"Spearman correlation between cox and meta: {spearman_corr2}\")\n",
    "print(f\"Spearman correlation between rsf and meta: {spearman_corr3}\")\n"
   ]
  },
  {
   "cell_type": "code",
   "execution_count": 18,
   "metadata": {},
   "outputs": [],
   "source": [
    "# file2_path = \"./submission_2025-03-13_10-46_meta_learner.csv\"\n",
    "# file1_path = \"./submission_2025-03-11_19-17_rsf.csv\""
   ]
  },
  {
   "cell_type": "code",
   "execution_count": 27,
   "metadata": {},
   "outputs": [],
   "source": [
    "# Z normalize bothb distributions\n",
    "from sklearn.preprocessing import StandardScaler\n",
    "scaler = StandardScaler()\n",
    "rsf_dist = df_rsf['risk_score'].values.reshape(-1, 1)\n",
    "cox_dist = df_cox['risk_score'].values.reshape(-1, 1)\n",
    "meta_dist = df_meta['risk_score'].values.reshape(-1, 1)\n",
    "linear_dist = df_linear['risk_score'].values.reshape(-1, 1)\n",
    "\n",
    "df_cox['risk_score_z'] = scaler.fit_transform(cox_dist)\n",
    "df_rsf['risk_score_z'] = scaler.fit_transform(rsf_dist)\n",
    "df_meta['risk_score_z'] = scaler.fit_transform(meta_dist)\n",
    "df_linear['risk_score_z'] = scaler.fit_transform(linear_dist)"
   ]
  },
  {
   "cell_type": "code",
   "execution_count": 34,
   "metadata": {},
   "outputs": [
    {
     "data": {
      "image/png": "[encoded data removed]",
      "text/plain": [
       "<Figure size 1000x500 with 1 Axes>"
      ]
     },
     "metadata": {},
     "output_type": "display_data"
    }
   ],
   "source": [
    "import matplotlib.pyplot as plt\n",
    "\n",
    "plt.figure(figsize=(10, 5))\n",
    "# plt.hist(df_rsf[\"risk_score_z\"], bins=50, alpha=0.5, label=\"RSF\", color=\"blue\")\n",
    "plt.hist(df_cox[\"risk_score_z\"], bins=90, alpha=0.5, label=\"COX-PH\", color=\"green\")\n",
    "# plt.hist(df_meta[\"risk_score_z\"], bins=50, alpha=0.5, label=\"Meta Learner : XGBoost\", color=\"red\")\n",
    "plt.hist(df_linear[\"risk_score_z\"], bins=50, alpha=0.5, label=\"Meta Learner : Linear\", color=\"purple\")\n",
    "plt.xlabel(\"Risk Score\")\n",
    "plt.ylabel(\"Frequency\")\n",
    "plt.legend()\n",
    "# plt.title(\"Comparison of different models\")\n",
    "plt.show()\n"
   ]
  }
 ],
 "metadata": {
  "kernelspec": {
   "display_name": "Python 3",
   "language": "python",
   "name": "python3"
  },
  "language_info": {
   "codemirror_mode": {
    "name": "ipython",
    "version": 3
   },
   "file_extension": ".py",
   "mimetype": "text/x-python",
   "name": "python",
   "nbconvert_exporter": "python",
   "pygments_lexer": "ipython3",
   "version": "3.11.5"
  }
 },
 "nbformat": 4,
 "nbformat_minor": 2
}
